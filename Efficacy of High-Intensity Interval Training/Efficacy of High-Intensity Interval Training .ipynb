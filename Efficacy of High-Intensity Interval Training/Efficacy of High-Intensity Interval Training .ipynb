{
 "cells": [
  {
   "cell_type": "markdown",
   "id": "dcb641d6",
   "metadata": {},
   "source": [
    "# Background"
   ]
  },
  {
   "cell_type": "markdown",
   "id": "d3a24cbd",
   "metadata": {},
   "source": [
    "It is recommended by the Center for Disease Control and other health organizations that individuals do at least 150 minutes of moderate intensity activity a week, or 75 minutes of vigorous intensity activity a week (CDC). This activity can be spread evenly over 4-5 days a week. However, data collected from the CDC shows that only about 23% of all U.S. adults get the recommended amount of exercise per week. Why is this the case? Is it due to an aversion to exercise, lack of time to exercise, or a lack of opportunity? Surveys conducted by various fitness apps such as Freeletics found that “not having time” is the number one barrier to exercise that Americans face, with 42% of participants saying that time is the biggest reason they fail to work out. Thus, it would be beneficial to find an exercise routine that is time-effective and efficient in elevating heartrate, burning calories and hitting as many muscle groups in the body as possible. "
   ]
  },
  {
   "cell_type": "markdown",
   "id": "886c8a25",
   "metadata": {},
   "source": [
    "One largely favored solution amount physical trainers and fitness gurus alike is high-intensity interval training (HIIT). HIIT workouts have grown in popularity over the past few years because of how accessible they are – HIIT exercises are incredibly effective using just bodyweight, and can be done almost anywhere. There’s no requirement for a gym, weights, or specific equipment in order to do the workout. HIIT exercises are also efficient; they are successful in elevating the heartrate and burning calories over a short period of time (Gibala 2007). However, HIIT is quite an intense workout and can be a daunting challenge for those who don’t regularly exercise. Our goal is to investigate if HIIT is truly more effective than moderate intensity training such as jogging. A comparison between HIIT and moderate intensity continuous training will be done as a reality check to see what the difference between the two training forms is. "
   ]
  },
  {
   "cell_type": "markdown",
   "id": "4b672765",
   "metadata": {},
   "source": [
    "# Hypothesis"
   ]
  },
  {
   "cell_type": "markdown",
   "id": "1c2c8db8",
   "metadata": {},
   "source": [
    "High-intensity interval training will be more effective in increasing heart rate and burning calories than moderate-intensity continuous training. "
   ]
  },
  {
   "cell_type": "markdown",
   "id": "1f77c2a4",
   "metadata": {},
   "source": [
    "# Protocol"
   ]
  },
  {
   "cell_type": "markdown",
   "id": "31ea7ecb",
   "metadata": {},
   "source": [
    "### Part I: Gathering baseline measurements "
   ]
  },
  {
   "cell_type": "markdown",
   "id": "fc524c1a",
   "metadata": {},
   "source": [
    "Before the participant begins the exercises, their baseline attributes must be measured and recorded in the “resting” row of the spreadsheet. These measurements should be recorded in a restful state, which involves the participant to rest for 60 seconds before measurements are taken. The required measurements are listed below: \n",
    "\n",
    "    -Heart Rate: use fitbit \n",
    "    -Steps taken: use fitbit \n",
    "    -Calories burned: use fitbit \n",
    "    -Respiratory Rate: count number of breaths for 15 seconds and multiply by 4 \n",
    "    -Likert Scale of Exhaustion \n",
    "        -0 = less than usual \n",
    "        -1 = no more than usual \n",
    "        -2 = worse than usual \n",
    "        -3 = much worse than usual \n",
    "    -Time start: use 2400 hours scale, start right at whole minute \n",
    "    -Time end: use 2400 hours scale, start right at whole minute \n",
    "    -Height: in inches \n",
    "    -Weight: in lbs \n"
   ]
  },
  {
   "cell_type": "markdown",
   "id": "eb86e25f",
   "metadata": {},
   "source": [
    "### Part II: HIIT vs moderate intensity continuous training "
   ]
  },
  {
   "cell_type": "markdown",
   "id": "3ccca74a",
   "metadata": {},
   "source": [
    "**Sprint (high-intensity interval training)**"
   ]
  },
  {
   "cell_type": "markdown",
   "id": "1691fa06",
   "metadata": {},
   "source": [
    "Each participant will do 5 sets of minute-long sprints (20 secs on, 10 secs off) on a treadmill, which will be representative of high-intensity interval training. They will begin their sprints on the minute, recording what time they’re starting at. They will then do a minute of exercise (so two rounds of 20 secs on, 10 secs off). Once the minute is up, they will record their measurements (see above) immediately, and rest until they feel they have recovered. Sprints during the on-period should be at an effort level of 10/10, with speeds dependent on participants. The off-period should consist of walking at an active pace.  \n",
    "\n",
    "    -Head to treadmills in gym.\n",
    "    -Run on treadmill for 1 minute on an interval of 20 seconds of sprinting and 10 seconds of walking\n",
    "    -Make sure to start sprints on the minute and to record that time\n",
    "    -After minute is us, record measurements above immediately\n",
    "    -Rest until participant feels recovered (suggestion: 2-3 minutes)\n",
    "    -Repeat process 4 more times"
   ]
  },
  {
   "cell_type": "markdown",
   "id": "4ab2932e",
   "metadata": {},
   "source": [
    "**Jogging (moderate intensity continuous training)**"
   ]
  },
  {
   "cell_type": "markdown",
   "id": "2558f784",
   "metadata": {},
   "source": [
    "The participant will do 5 sets of minute-long jogging at a comfortable pace (between 7.0 and 8.0 mph) on a treadmill. They will be their jogging set on the minute, recording what time they’re starting at. Once the minute of exercise has been completed, they will record the time at which the exercise was completed as well as all measurements listed above. \n",
    "\n",
    "    -Head to treadmills in gym.\n",
    "    -Run on treadmill for 1 minute, jogging at a comfortable pace (suggestion: 7.0-8.0 mph)\n",
    "    -Make sure to start sprints on the minute and to record that time\n",
    "    -After minute is us, record measurements above immediately\n",
    "    -Rest until participant feels recovered (suggestion: 2-3 minutes)\n",
    "    -Repeat process 4 more times"
   ]
  },
  {
   "cell_type": "markdown",
   "id": "85e0fb6d",
   "metadata": {},
   "source": [
    "### Data Collection"
   ]
  },
  {
   "cell_type": "markdown",
   "id": "dfcd871d",
   "metadata": {},
   "source": [
    "The participant will fill in a provided spreadsheet with all the necessary information. After all exercises have been completed and data has been conducted, save the sample spreadhseet (with subsequent data filled in) as \"hiit_data_*lastname*\" and as a csv file. Then upload this file into the provided Box folder. This file will be used further in this lab. Below is a link to the spreadsheet.\n",
    "\n",
    "https://wlu.box.com/s/h3orvz5sfbj9984jgk06xa66i4jvvq9p"
   ]
  },
  {
   "cell_type": "markdown",
   "id": "63b90088",
   "metadata": {},
   "source": [
    "# Data Extraction"
   ]
  },
  {
   "cell_type": "markdown",
   "id": "06263203",
   "metadata": {},
   "source": [
    "In this section, we will be replicated what we did in Lab 6, where we extract the data from the Fitbit and combine it with the data that was manually collected."
   ]
  },
  {
   "cell_type": "markdown",
   "id": "89f9651e",
   "metadata": {},
   "source": [
    "Below are some packages and import statements necessary to complete this process."
   ]
  },
  {
   "cell_type": "code",
   "execution_count": null,
   "id": "b9131553",
   "metadata": {},
   "outputs": [],
   "source": [
    "import sys\n",
    "!{sys.executable} -m pip install cherrypy\n",
    "!{sys.executable} -m pip install fitbit"
   ]
  },
  {
   "cell_type": "code",
   "execution_count": null,
   "id": "e6fa9bcf",
   "metadata": {},
   "outputs": [],
   "source": [
    "import fitbit\n",
    "import gather_keys_oauth2 as Oauth2\n",
    "from sklearn.model_selection import train_test_split\n",
    "from sklearn.preprocessing import MinMaxScaler\n",
    "from sklearn.preprocessing import StandardScaler\n",
    "import pandas as pd\n",
    "import datetime\n",
    "import os\n",
    "from sklearn.tree import DecisionTreeClassifier\n",
    "from sklearn.ensemble import RandomForestClassifier\n",
    "from matplotlib import pyplot as plt\n",
    "from sklearn import tree\n",
    "from sklearn.linear_model import LogisticRegression\n",
    "from sklearn.metrics import accuracy_score"
   ]
  },
  {
   "cell_type": "markdown",
   "id": "f4cb82e2",
   "metadata": {},
   "source": [
    "Now, create variables for your client id and client secret taken from the final screen in creating your fitbit application."
   ]
  },
  {
   "cell_type": "code",
   "execution_count": null,
   "id": "86046478",
   "metadata": {},
   "outputs": [],
   "source": [
    "CLIENT_ID = \n",
    "CLIENT_SECRET = "
   ]
  },
  {
   "cell_type": "markdown",
   "id": "456c259f",
   "metadata": {},
   "source": [
    "This code will give you access and be authenticated by the server."
   ]
  },
  {
   "cell_type": "code",
   "execution_count": null,
   "id": "76a8ba85",
   "metadata": {},
   "outputs": [],
   "source": [
    "server = Oauth2.OAuth2Server(CLIENT_ID, CLIENT_SECRET)\n",
    "server.browser_authorize()\n",
    "ACCESS_TOKEN = str(server.fitbit.client.session.token['access_token'])\n",
    "REFRESH_TOKEN = str(server.fitbit.client.session.token['refresh_token'])\n",
    "auth2_client = fitbit.Fitbit(CLIENT_ID, CLIENT_SECRET, oauth2=True, access_token=ACCESS_TOKEN, refresh_token=REFRESH_TOKEN)"
   ]
  },
  {
   "cell_type": "markdown",
   "id": "13d02a30",
   "metadata": {},
   "source": [
    "The following function works to extract all the necessry data from your fitbit. Please fill in the values 'daysAgo', 'start_time', and 'end time' with the appropriate information."
   ]
  },
  {
   "cell_type": "code",
   "execution_count": null,
   "id": "b570082e",
   "metadata": {},
   "outputs": [],
   "source": [
    "def extractData(auth2_client, daysAgo):\n",
    "    \"\"\"\n",
    "    Extracting data through the authorized client. Looking for access to different\n",
    "    activities at different granularities of time.\n",
    "    Input: Authorized client and file name\n",
    "    Output: Output csv file with necessary information\n",
    "    \"\"\"\n",
    "\n",
    "    features = [\"activities/heart\", \"activities/steps\", \"activities/calories\"]\n",
    "    daysAgo = 0\n",
    "    features_intraday = [\"activities-heart-intraday\", \"activities-steps-intraday\", \"activities-calories-intraday\"]\n",
    "    dateOfInterest = str((datetime.datetime.now() - datetime.timedelta(days=daysAgo)).strftime(\"%Y-%m-%d\"))  \n",
    "    count = 0\n",
    "\n",
    "    column_names = [\"Time\", \"Heart Rate\", \"Steps\", \"Calories\"]\n",
    "    df = pd.DataFrame(columns = column_names)\n",
    "\n",
    "    for feature in features:\n",
    "        fit_stats = auth2_client.intraday_time_series(\n",
    "                              feature,\n",
    "                              base_date = dateOfInterest,\n",
    "                              detail_level = '1min',\n",
    "                              start_time   = '00:00',\n",
    "                              end_time     = '00:00')\n",
    "        temp_value = []\n",
    "        temp_time = []\n",
    "\n",
    "        for i in fit_stats[features_intraday[count]]['dataset']:\n",
    "            temp_value.append(i['value'])\n",
    "            temp_time.append(i['time'])\n",
    "        df[\"Time\"] = temp_time\n",
    "        df.iloc[:, count+1] = temp_value\n",
    "        count += 1\n",
    "\n",
    "  \n",
    "    display(df)\n",
    "    df.to_csv(os.getcwd() + '\\\\' + \"allfeatures\" + dateOfInterest + '.csv', columns=['Time', 'Heart Rate', 'Steps', 'Calories'], header=True, index = False)"
   ]
  },
  {
   "cell_type": "code",
   "execution_count": null,
   "id": "ee2be06b",
   "metadata": {},
   "outputs": [],
   "source": [
    "extractData(auth2_client, 1)"
   ]
  },
  {
   "cell_type": "markdown",
   "id": "218bc9bb",
   "metadata": {},
   "source": [
    "Now we need to work on combining the data that we manually collected with out fitbit data. Read in your file that you saved before as 'hiit_data'."
   ]
  },
  {
   "cell_type": "code",
   "execution_count": null,
   "id": "e0b6c6af",
   "metadata": {},
   "outputs": [],
   "source": [
    "hiit_data = pd.read_csv()\n",
    "hiit_data"
   ]
  },
  {
   "cell_type": "markdown",
   "id": "928273c6",
   "metadata": {},
   "source": [
    "Next, read in our fitbit data as df with the appropriate file name."
   ]
  },
  {
   "cell_type": "code",
   "execution_count": null,
   "id": "8e6bb5c0",
   "metadata": {},
   "outputs": [],
   "source": [
    "df = pd.read_csv()\n",
    "df"
   ]
  },
  {
   "cell_type": "markdown",
   "id": "b123678e",
   "metadata": {},
   "source": [
    "You will need to manipulate the Time column of the fitbit data such that it has the same format as what you see in the manually collected data Time Start column."
   ]
  },
  {
   "cell_type": "code",
   "execution_count": null,
   "id": "114549bc",
   "metadata": {},
   "outputs": [],
   "source": [
    "def change_to_number(val):\n",
    "    hour = val[0:2]\n",
    "    minute = val[3:5]\n",
    "    time = hour + minute\n",
    "    return time"
   ]
  },
  {
   "cell_type": "code",
   "execution_count": null,
   "id": "bc61968e",
   "metadata": {},
   "outputs": [],
   "source": [
    "military = []\n",
    "for i in df.Time:\n",
    "    hour = i[0:2]\n",
    "    minute = i[3:5]\n",
    "    time = hour+minute\n",
    "    military.append(time)\n",
    "    \n",
    "df[\"Time\"] = military\n",
    "df"
   ]
  },
  {
   "cell_type": "markdown",
   "id": "61aea2e4",
   "metadata": {},
   "source": [
    "After this manipulation of the fitbit dataframe. You need add the features from both dataframes together into one, while making sure that the Time Start column from your data and the Time value from the fitbit dataframe match. This way, you are getting the fibit features from the exact time you were doing your exercise."
   ]
  },
  {
   "cell_type": "code",
   "execution_count": null,
   "id": "1ae7e119",
   "metadata": {},
   "outputs": [],
   "source": [
    "partial_df = pd.DataFrame()\n",
    "\n",
    "times = []\n",
    "\n",
    "df['Time'] = df['Time'].astype(str)\n",
    "\n",
    "lab5Data['Time Start'] = lab5Data['Time Start'].astype(str)\n",
    "\n",
    "for i in range(len(lab5Data['Time Start'])):\n",
    "    times.append(lab5Data['Time Start'][i])\n",
    "    \n",
    "partial_df = df.loc[df['Time'].isin(times)]\n",
    "\n",
    "final_df = pd.merge(left=lab5Data, right=partial_df, how='left', left_on='Time Start', right_on='Time')\n",
    "\n",
    "final_df"
   ]
  },
  {
   "cell_type": "markdown",
   "id": "d3b0072b",
   "metadata": {},
   "source": [
    "Next, remove the Time Start column from your dataframe. Lastly, write this whole dataframe to a csv file named fitbit_data_yourlastname. Then please email this file to either ardoinm24@mail.wlu.edu or kolevai22@mail.wlu.edu."
   ]
  },
  {
   "cell_type": "code",
   "execution_count": null,
   "id": "4bb79d3e",
   "metadata": {},
   "outputs": [],
   "source": [
    "final_df.drop([\"Time Start\"], axis = 1, inplace = True)\n",
    "final_df.to_csv(, header=True, index = False)"
   ]
  }
 ],
 "metadata": {
  "kernelspec": {
   "display_name": "Python 3 (ipykernel)",
   "language": "python",
   "name": "python3"
  },
  "language_info": {
   "codemirror_mode": {
    "name": "ipython",
    "version": 3
   },
   "file_extension": ".py",
   "mimetype": "text/x-python",
   "name": "python",
   "nbconvert_exporter": "python",
   "pygments_lexer": "ipython3",
   "version": "3.9.7"
  }
 },
 "nbformat": 4,
 "nbformat_minor": 5
}
